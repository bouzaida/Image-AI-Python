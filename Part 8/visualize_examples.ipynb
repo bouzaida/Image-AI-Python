{
 "cells": [
  {
   "cell_type": "markdown",
   "metadata": {},
   "source": [
    "# Course:  Convolutional Neural Networks for Image Classification\n",
    "\n",
    "## Section-8\n",
    "### Visualize unique examples from augmented dataset\n",
    "\n",
    "**Description:**  \n",
    "*Plot images from augmented dataset  \n",
    "Compose video from plotted examples*  \n",
    "\n",
    "**File:** *visualize_examples.ipynb*"
   ]
  },
  {
   "cell_type": "markdown",
   "metadata": {},
   "source": [
    "### Algorithm:\n",
    "\n",
    "**--> Step 1:** Open Traffic Signs dataset  \n",
    "**--> Step 2:** Plot and save unique examples into images  \n",
    "\n",
    "\n",
    "**Result:**  \n",
    "- Set of images with examples from augmented dataset"
   ]
  },
  {
   "cell_type": "markdown",
   "metadata": {},
   "source": [
    "## Importing libraries"
   ]
  },
  {
   "cell_type": "code",
   "execution_count": null,
   "metadata": {},
   "outputs": [],
   "source": [
    "# Importing needed libraries\n",
    "import matplotlib.pyplot as plt\n",
    "import numpy as np\n",
    "import h5py\n"
   ]
  },
  {
   "cell_type": "markdown",
   "metadata": {},
   "source": [
    "## Step 1: Opening Traffic Signs dataset"
   ]
  },
  {
   "cell_type": "code",
   "execution_count": null,
   "metadata": {},
   "outputs": [],
   "source": [
    "# Opening augmented Traffic Signs dataset from HDF5 binary file\n",
    "# Initiating File object\n",
    "# Opening file in reading mode by 'r'\n",
    "# (!) On Windows, it might need to change\n",
    "# this: + '/' +\n",
    "# to this: + '\\' +\n",
    "# or to this: + '\\\\' +\n",
    "with h5py.File('ts' + '/' + 'dataset_ts_rgb_augmented.hdf5', 'r') as f:\n",
    "    # Extracting saved arrays for training by appropriate keys\n",
    "    # Saving them into new variables\n",
    "    x_train = f['x_train']  # HDF5 dataset\n",
    "    y_train = f['y_train']  # HDF5 dataset\n",
    "    # Converting them into Numpy arrays\n",
    "    x_train = np.array(x_train)  # Numpy arrays\n",
    "    y_train = np.array(y_train)  # Numpy arrays\n",
    "\n",
    "\n",
    "# Check point\n",
    "print('Traffic Signs dataset is successfully opened')\n"
   ]
  },
  {
   "cell_type": "code",
   "execution_count": null,
   "metadata": {},
   "outputs": [],
   "source": [
    "# Check point\n",
    "# Showing shapes of loaded arrays\n",
    "print(x_train.shape)\n",
    "print(y_train.shape)\n"
   ]
  },
  {
   "cell_type": "markdown",
   "metadata": {},
   "source": [
    "## Step 2: Plotting and saving unique examples"
   ]
  },
  {
   "cell_type": "code",
   "execution_count": null,
   "metadata": {},
   "outputs": [],
   "source": [
    "# Defining dictionary to keep unique examples for every class\n",
    "# As a key there is a unique class\n",
    "# As a value there is a list with indexes of unique examples for this class\n",
    "dictionary_with_unique_examples = {}\n",
    "\n",
    "# Defining index to start iterating examples of images with\n",
    "i = 0\n",
    "\n",
    "# Defining variable to count total number of collected unique examples\n",
    "m = 0\n",
    "\n",
    "# Iterating classes\n",
    "while True:\n",
    "    # Checking if class isn't yet in dictionary\n",
    "    if y_train[i] not in dictionary_with_unique_examples:\n",
    "        # Adding new class to dictinory as a key\n",
    "        # Adding index of example to the list as a value\n",
    "        dictionary_with_unique_examples[y_train[i]] = [i]\n",
    "        \n",
    "        # Increasing counter of total number of examples\n",
    "        m += 1\n",
    "        \n",
    "    # If class is already in dictionary\n",
    "    # Checking if there is needed number of indexes of examples in the list\n",
    "    elif len(dictionary_with_unique_examples[y_train[i]]) < 100:\n",
    "        # Adding index of example to the list as a value\n",
    "        dictionary_with_unique_examples[y_train[i]] += [i]\n",
    "        \n",
    "        # Increasing counter of total number of examples\n",
    "        m += 1\n",
    "        \n",
    "    # Checking if there is already 100 * 43 = 4300 indexes of examples for all classes\n",
    "    if m == 4300:\n",
    "        # Breaking the loop\n",
    "        break\n",
    "    \n",
    "    # Increasing index\n",
    "    i += 1\n",
    "\n",
    "\n",
    "# Check point\n",
    "print('100 unique examples for every class are successfully collected')\n"
   ]
  },
  {
   "cell_type": "code",
   "execution_count": null,
   "metadata": {
    "scrolled": false
   },
   "outputs": [],
   "source": [
    "# Check point\n",
    "# Iterating dictionary keys and their values\n",
    "for key, value in dictionary_with_unique_examples.items():\n",
    "    # Showing key and length of the list with indexes\n",
    "    print(key, len(value))\n"
   ]
  },
  {
   "cell_type": "code",
   "execution_count": null,
   "metadata": {},
   "outputs": [],
   "source": [
    "# Check point\n",
    "# Showing value for the specific key (first class)\n",
    "# This value is in form of list that holds indexes\n",
    "# of appropriate images for the first class\n",
    "print(dictionary_with_unique_examples[0])\n"
   ]
  },
  {
   "cell_type": "code",
   "execution_count": null,
   "metadata": {
    "scrolled": true
   },
   "outputs": [],
   "source": [
    "# Setting default size of the plot\n",
    "plt.rcParams['figure.figsize'] = (16.0, 9.0)\n",
    "\n",
    "\n",
    "# Defining a figure object with number of needed subplots\n",
    "# ax is a (20, 43) Numpy array\n",
    "# To access specific subplot we call it by ax[0, 0]\n",
    "figure, ax = plt.subplots(nrows=20, ncols=43)\n",
    "\n",
    "\n",
    "# Plotting 860 examples along 20 rows and 43 columns\n",
    "# Creating figures, where every next plot will be updated by\n",
    "# deleting first row and updating last row with new images\n",
    "for i in range(81):   \n",
    "    # Filling every column in the first row with examples\n",
    "    for j in range(43):\n",
    "        # Extracting needed index from the dictionary\n",
    "        ii = dictionary_with_unique_examples[j][i]\n",
    "        # Placing examples into appropriate positions at the plot\n",
    "        ax[0, j].imshow(x_train[ii].astype('uint8'))\n",
    "        # Hiding axes\n",
    "        ax[0, j].axis('off')            \n",
    "        \n",
    "    # Filling rest of the 19th rows with next examples\n",
    "    for k in range(1, 20):\n",
    "        for j in range(43):\n",
    "            # Extracting needed index from the dictionary\n",
    "            ii = dictionary_with_unique_examples[j][i + k]\n",
    "            # Placing examples into appropriate positions at the plot\n",
    "            ax[k, j].imshow(x_train[ii].astype('uint8'))\n",
    "            # Hiding axes\n",
    "            ax[k, j].axis('off')\n",
    "    \n",
    "    # Saving current plot into a file\n",
    "    # (!) On Windows, it might need to change\n",
    "    # this: + '/' +\n",
    "    # to this: + '\\' +\n",
    "    # or to this: + '\\\\' +\n",
    "    figure.savefig('ts' '/' 'images' + '/' + '{0:04d}'.format(i) + '.png', dpi=300)\n",
    "\n",
    "    # Closing current plot to release memory\n",
    "    plt.close()\n",
    "    \n",
    "    # Check point\n",
    "    print('{0:04d}.png is created'.format(i))\n",
    "    "
   ]
  },
  {
   "cell_type": "markdown",
   "metadata": {},
   "source": [
    "### Some comments\n",
    "\n",
    "To get more details for usage of Python dictionaries:  \n",
    "**print(help(dict))**\n",
    "  \n",
    "More details and examples are here:  \n",
    " - https://docs.python.org/3/tutorial/datastructures.html?highlight=dictionary#dictionaries  \n"
   ]
  },
  {
   "cell_type": "code",
   "execution_count": null,
   "metadata": {
    "scrolled": true
   },
   "outputs": [],
   "source": [
    "print(help(dict))"
   ]
  }
 ],
 "metadata": {
  "kernelspec": {
   "display_name": "Python 3",
   "language": "python",
   "name": "python3"
  },
  "language_info": {
   "codemirror_mode": {
    "name": "ipython",
    "version": 3
   },
   "file_extension": ".py",
   "mimetype": "text/x-python",
   "name": "python",
   "nbconvert_exporter": "python",
   "pygments_lexer": "ipython3",
   "version": "3.7.7"
  }
 },
 "nbformat": 4,
 "nbformat_minor": 2
}
