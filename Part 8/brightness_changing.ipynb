{
 "cells": [
  {
   "cell_type": "markdown",
   "metadata": {},
   "source": [
    "# Course:  Convolutional Neural Networks for Image Classification\n",
    "\n",
    "## Section-8\n",
    "### Change brightness of images in dataset\n",
    "\n",
    "**Description:**  \n",
    "*Generate additional images by random brightness  \n",
    "Plot resulted images*  \n",
    "\n",
    "**File:** *brightness_changing.ipynb*"
   ]
  },
  {
   "cell_type": "markdown",
   "metadata": {},
   "source": [
    "### Algorithm:\n",
    "\n",
    "**--> Step 1:** Open Traffic Signs dataset  \n",
    "**--> Step 2:** Apply random brightness changing  \n",
    "**--> Step 3:** Visualize examples  \n",
    "\n",
    "\n",
    "**Result:**  \n",
    "- Plot with images before and after brightness changing"
   ]
  },
  {
   "cell_type": "markdown",
   "metadata": {},
   "source": [
    "## Importing libraries"
   ]
  },
  {
   "cell_type": "code",
   "execution_count": null,
   "metadata": {},
   "outputs": [],
   "source": [
    "# Importing needed libraries\n",
    "import matplotlib.pyplot as plt\n",
    "import numpy as np\n",
    "import h5py\n",
    "import cv2\n"
   ]
  },
  {
   "cell_type": "markdown",
   "metadata": {},
   "source": [
    "## Setting up full path"
   ]
  },
  {
   "cell_type": "code",
   "execution_count": null,
   "metadata": {},
   "outputs": [],
   "source": [
    "# Full or absolute path to 'Section3' with Traffic Signs dataset\n",
    "# (!) On Windows, the path should look like following:\n",
    "# r'C:\\Users\\your_name\\PycharmProjects\\CNNCourse\\Section3'\n",
    "# or:\n",
    "# 'C:\\\\Users\\\\your_name\\\\PycharmProjects\\\\CNNCourse\\\\Section3'\n",
    "full_path_to_Section3 = \\\n",
    "    '/home/valentyn/PycharmProjects/CNNCourse/Section3'\n"
   ]
  },
  {
   "cell_type": "markdown",
   "metadata": {},
   "source": [
    "## Step 1: Opening Traffic Signs dataset"
   ]
  },
  {
   "cell_type": "code",
   "execution_count": null,
   "metadata": {},
   "outputs": [],
   "source": [
    "# Opening saved Traffic Signs dataset from HDF5 binary file\n",
    "# Initiating File object\n",
    "# Opening file in reading mode by 'r'\n",
    "# (!) On Windows, it might need to change\n",
    "# this: + '/' +\n",
    "# to this: + '\\' +\n",
    "# or to this: + '\\\\' +\n",
    "with h5py.File(full_path_to_Section3 + '/' + 'dataset_ts.hdf5', 'r') as f:\n",
    "    # Extracting saved arrays for training by appropriate keys\n",
    "    # Saving them into new variables\n",
    "    x_train = f['x_train']  # HDF5 dataset\n",
    "    y_train = f['y_train']  # HDF5 dataset\n",
    "    # Converting them into Numpy arrays\n",
    "    x_train = np.array(x_train)  # Numpy arrays\n",
    "    y_train = np.array(y_train)  # Numpy arrays\n",
    "\n",
    "\n",
    "# Check point\n",
    "print('Traffic Signs dataset is successfully opened')\n"
   ]
  },
  {
   "cell_type": "code",
   "execution_count": null,
   "metadata": {},
   "outputs": [],
   "source": [
    "# Check point\n",
    "# Showing shapes of loaded arrays\n",
    "print(x_train.shape)\n",
    "print(y_train.shape)\n"
   ]
  },
  {
   "cell_type": "markdown",
   "metadata": {},
   "source": [
    "## Step 2: Applying random brightness changing"
   ]
  },
  {
   "cell_type": "code",
   "execution_count": null,
   "metadata": {
    "scrolled": true
   },
   "outputs": [],
   "source": [
    "# Defining function for changing brightness\n",
    "def brightness_changing(input_image):\n",
    "    # Converting input image from RGB to HSV colour space\n",
    "    image_hsv = cv2.cvtColor(input_image, cv2.COLOR_RGB2HSV)\n",
    "    \n",
    "    # Defining random value (positive or negative) for changing brightness\n",
    "    # To make image darker or brighter\n",
    "    n = np.random.choice([-1, 1])\n",
    "    \n",
    "    # Checking if n is negative\n",
    "    if n == -1:\n",
    "        # Preparing value to darken image with\n",
    "        random_brightness = n * np.random.randint(low=5, high=10)\n",
    "        \n",
    "    # Otherwise, if n is positive\n",
    "    elif n == 1:\n",
    "        # Preparing value to brighten image with\n",
    "        random_brightness = np.random.randint(low=50, high=75)\n",
    "    \n",
    "    # Changing Value channel for HSV image\n",
    "    image_hsv[:, :, 2] += random_brightness\n",
    "    \n",
    "    # To exclude pixels' values that are less than 0 and more than 255,\n",
    "    # Numpy function 'clip' is applied\n",
    "    # It keeps values of array in the given range\n",
    "    # And it replaces non-needed values with boundary numbers\n",
    "    image_hsv[:, :, 2] = np.clip(image_hsv[:, :, 2], 0, 255)\n",
    "    \n",
    "    # Converting resulted HSV image back to RGB colour space\n",
    "    image_rgb = cv2.cvtColor(image_hsv, cv2.COLOR_HSV2RGB)\n",
    "    \n",
    "    # Returning resulted image with changed brightness\n",
    "    return image_rgb\n",
    "\n",
    "\n",
    "# Check point\n",
    "print('Function to randomly change brightness is successfully defined')\n"
   ]
  },
  {
   "cell_type": "code",
   "execution_count": null,
   "metadata": {
    "scrolled": false
   },
   "outputs": [],
   "source": [
    "# Defining list to collect new images\n",
    "x_temp = []\n",
    "\n",
    "\n",
    "# Iterating first 15 images from loaded dataset\n",
    "# Applying function to change brightness\n",
    "# Adding results into the list\n",
    "for i in range(15):\n",
    "    x_temp.append(brightness_changing(x_train[i]))\n",
    "\n",
    "\n",
    "# Converting list into Numpy array\n",
    "x_temp = np.array(x_temp)  # Numpy array\n",
    "\n",
    "\n",
    "# Check point\n",
    "print('Brightness of the first 15 images is successfully changed')\n"
   ]
  },
  {
   "cell_type": "code",
   "execution_count": null,
   "metadata": {},
   "outputs": [],
   "source": [
    "# Check points\n",
    "# Showing some pixels' values before and after brightness changing\n",
    "print('Original pixels values:')\n",
    "print(x_train[0, 24, :10, 0].astype('uint8'))\n",
    "print()\n",
    "print('Changed pixels values')\n",
    "print(x_temp[0, 24, :10, 0].astype('uint8'))\n"
   ]
  },
  {
   "cell_type": "markdown",
   "metadata": {},
   "source": [
    "## Step 3: Visualizing examples"
   ]
  },
  {
   "cell_type": "code",
   "execution_count": null,
   "metadata": {
    "scrolled": false
   },
   "outputs": [],
   "source": [
    "# Magic function that renders the figure in a jupyter notebook\n",
    "# instead of displaying a figure object\n",
    "%matplotlib inline\n",
    "\n",
    "\n",
    "# Setting default size of the plot\n",
    "plt.rcParams['figure.figsize'] = (9.0, 60.0)\n",
    "\n",
    "\n",
    "# Defining a figure object with number of needed subplots\n",
    "# ax is a (15, 2) Numpy array\n",
    "# To access specific subplot we call it by ax[0, 0]\n",
    "figure, ax = plt.subplots(nrows=15, ncols=2)\n",
    "\n",
    "\n",
    "# Plotting 30 examples along 15 rows and 2 columns\n",
    "for i in range(15):\n",
    "    # Plotting original images in the first column\n",
    "    ax[i, 0].imshow(x_train[i].astype('uint8'))\n",
    "    \n",
    "    # Plotting changed images in the second column\n",
    "    ax[i, 1].imshow(x_temp[i].astype('uint8'))\n",
    "    \n",
    "    # Hiding axes\n",
    "    ax[i, 0].axis('off')\n",
    "    ax[i, 1].axis('off')\n",
    "\n",
    "\n",
    "# Giving names to columns\n",
    "ax[0, 0].set_title('Original', fontsize=24)\n",
    "ax[0, 1].set_title('Processed', fontsize=24)\n",
    "\n",
    "\n",
    "# Adjusting distance between subplots\n",
    "plt.tight_layout()\n",
    "\n",
    "\n",
    "# Showing the plot\n",
    "plt.show()\n"
   ]
  },
  {
   "cell_type": "markdown",
   "metadata": {},
   "source": [
    "### Some comments\n",
    "\n",
    "To get more details for usage of 'np.random.choice':  \n",
    "**print(help(np.random.choice))**\n",
    "  \n",
    "More details and examples are here:  \n",
    " - https://numpy.org/doc/stable/reference/random/generated/numpy.random.choice.html  \n"
   ]
  },
  {
   "cell_type": "code",
   "execution_count": null,
   "metadata": {
    "scrolled": true
   },
   "outputs": [],
   "source": [
    "print(help(np.random.choice))"
   ]
  }
 ],
 "metadata": {
  "kernelspec": {
   "display_name": "Python 3",
   "language": "python",
   "name": "python3"
  },
  "language_info": {
   "codemirror_mode": {
    "name": "ipython",
    "version": 3
   },
   "file_extension": ".py",
   "mimetype": "text/x-python",
   "name": "python",
   "nbconvert_exporter": "python",
   "pygments_lexer": "ipython3",
   "version": "3.7.7"
  }
 },
 "nbformat": 4,
 "nbformat_minor": 2
}
