{
 "cells": [
  {
   "cell_type": "markdown",
   "metadata": {},
   "source": [
    "# Course:  Convolutional Neural Networks for Image Classification\n",
    "\n",
    "## Section-1\n",
    "\n",
    "<span style=\"font-size:14pt\">Quick Win #2: Pooling</span>  \n",
    "  \n",
    "<span style=\"font-size:14pt\">**Description:**</span>  \n",
    "<span style=\"font-size:13pt\">*Apply max pooling operation to grayscale image*</span>  \n",
    "<span style=\"font-size:13pt\">*Demonstrate downsampled output image*</span>  \n",
    "  \n",
    "<span style=\"font-size:13pt\">**File:** *pooling.ipynb*</span>"
   ]
  },
  {
   "cell_type": "markdown",
   "metadata": {},
   "source": [
    "<span style=\"font-size:14pt\">**Algorithm:**</span>  \n",
    "  \n",
    "<span style=\"font-size:13pt\">**-->** Reading coloured image</span>  \n",
    "<span style=\"font-size:13pt\">**-->** Converting image to GRAY</span>  \n",
    "<span style=\"font-size:13pt\">**-->** Implementing max pooling operation to GRAY image</span>  \n",
    "  \n",
    "<span style=\"font-size:13pt\">**Result:**\n",
    "Plot with input GRAY image and downsampled image after pooling</span>"
   ]
  },
  {
   "cell_type": "markdown",
   "metadata": {},
   "source": [
    "## Importing libraries"
   ]
  },
  {
   "cell_type": "code",
   "execution_count": null,
   "metadata": {},
   "outputs": [],
   "source": [
    "# Importing needed libraries\n",
    "import cv2\n",
    "import numpy as np\n",
    "import matplotlib.pyplot as plt\n",
    "\n",
    "# Importing library to see calculation progress inside loops in Real Time\n",
    "# To install, use following command: pip install tqdm\n",
    "# Don't forget to activate environment in which you're working\n",
    "from tqdm import tqdm\n"
   ]
  },
  {
   "cell_type": "markdown",
   "metadata": {},
   "source": [
    "## Opening input image and converting it into GRAY"
   ]
  },
  {
   "cell_type": "code",
   "execution_count": null,
   "metadata": {},
   "outputs": [],
   "source": [
    "# Reading coloured input image by OpenCV library\n",
    "# In this way image is opened already as Numpy array\n",
    "\n",
    "# (!) OpenCV by default reads image in BGR format (order of channels)\n",
    "# (!) On Windows, the path might look like following:\n",
    "# r'images\\cat.png'\n",
    "# or:\n",
    "# 'images\\\\cat.png'\n",
    "image_BGR = cv2.imread('images/cat.png')\n",
    "\n",
    "\n",
    "# Converting input image to GRAY by OpenCV function\n",
    "image_GRAY = cv2.cvtColor(image_BGR, cv2.COLOR_BGR2GRAY)\n",
    "\n",
    "\n",
    "# Check point\n",
    "# Showing type and shape of loaded coloured image\n",
    "# Showing shape of GRAY image\n",
    "print('Type of image_BGR is:', type(image_BGR))\n",
    "print('Shape of image_BGR is:', image_BGR.shape)\n",
    "print('Shape of image_GRAY is:', image_GRAY.shape)\n"
   ]
  },
  {
   "cell_type": "markdown",
   "metadata": {},
   "source": [
    "## Applying pooling operation to GRAY image"
   ]
  },
  {
   "cell_type": "markdown",
   "metadata": {},
   "source": [
    "### Setting hyperparameters and preparing output array"
   ]
  },
  {
   "cell_type": "code",
   "execution_count": null,
   "metadata": {},
   "outputs": [],
   "source": [
    "# Preparing hyperparameters for pooling\n",
    "# To get resulted image after pooling,\n",
    "# it is needed to set following:\n",
    "# filter size for pooling (width and height are equal)\n",
    "f_pooling = 2\n",
    "# stride (step) for sliding\n",
    "step = 2\n",
    "\n",
    "# Output image's dimension is calculated by following equations:\n",
    "# height_out = (height_in - f_pooling) / step + 1\n",
    "# width_out = (width_in - f_pooling) / step + 1\n",
    "\n",
    "# For instance, input GRAY image is 1280x720 of spatial size (width and height),\n",
    "# then output image after pooling will be as following:\n",
    "# height_out = (720 - 2) / 2 + 1 = 360\n",
    "# width_out = (1280 - 2) / 2 + 1 = 640\n",
    "\n",
    "\n",
    "# Calculating spatial size of output resulted array (width and height)\n",
    "# Making output width and height as integer numbers,\n",
    "# in case input width/height is odd\n",
    "height_out = int((image_GRAY.shape[0] - 2) / 2 + 1)\n",
    "width_out = int((image_GRAY.shape[1] - 2) / 2 + 1)\n",
    "\n",
    "\n",
    "# Preparing zero valued output array for image after pooling\n",
    "image_after_pooling = np.zeros((height_out, width_out))\n",
    "\n",
    "\n",
    "# Check point\n",
    "# Showing shape of image after pooling\n",
    "print('Shape of image after pooling is:', image_after_pooling.shape)\n"
   ]
  },
  {
   "cell_type": "markdown",
   "metadata": {},
   "source": [
    "### Pooling operation to GRAY image"
   ]
  },
  {
   "cell_type": "code",
   "execution_count": null,
   "metadata": {},
   "outputs": [],
   "source": [
    "# Preparing indexes for rows of output array\n",
    "ii = 0\n",
    "\n",
    "# Sliding through entire input GRAY image\n",
    "# Wrapping the loop with 'tqdm' in order to see progress in real time\n",
    "for i in tqdm(range(0, image_GRAY.shape[0] - f_pooling + 1, step)):\n",
    "    # Preparing indexes for columns of output array\n",
    "    jj = 0\n",
    "\n",
    "    for j in range(0, image_GRAY.shape[1] - f_pooling + 1, step):\n",
    "        # Extracting (slicing) a 2x2 patch (the same size with filter)\n",
    "        # from input GRAY image\n",
    "        patch = image_GRAY[i:i+f_pooling, j:j+f_pooling]\n",
    "\n",
    "        # Applying max pooling operation - choosing maximum element\n",
    "        # from the current patch\n",
    "        image_after_pooling[ii, jj] = np.max(patch)\n",
    "\n",
    "        # Increasing indexes for rows of output array\n",
    "        jj += 1\n",
    "\n",
    "    # Increasing indexes for columns of output array\n",
    "    ii += 1\n"
   ]
  },
  {
   "cell_type": "markdown",
   "metadata": {},
   "source": [
    "### Plotting resulted downsampled image after pooling"
   ]
  },
  {
   "cell_type": "code",
   "execution_count": null,
   "metadata": {
    "scrolled": false
   },
   "outputs": [],
   "source": [
    "# Magic function that renders the figure in a jupyter notebook\n",
    "# instead of displaying a figure object\n",
    "%matplotlib inline\n",
    "\n",
    "\n",
    "# Setting default size of the plot\n",
    "plt.rcParams['figure.figsize'] = (18.0, 10.0)\n",
    "\n",
    "\n",
    "# Defining a figure object with number of needed subplots\n",
    "# ax is a (2,) Numpy array and to access specific subplot we call it by ax[0]\n",
    "# 'gridspec_kw' is the dictionary with keywords to specify the ratio of subplots\n",
    "figure, ax = plt.subplots(nrows=1, ncols=2,\n",
    "                          gridspec_kw={'width_ratios': [2, 1]})\n",
    "\n",
    "\n",
    "# Adjusting first column with input GRAY image\n",
    "ax[0].imshow(image_GRAY, cmap=plt.get_cmap('gray'))\n",
    "\n",
    "\n",
    "# Adjusting second column with GRAY image after pooling\n",
    "ax[1].imshow(image_after_pooling, cmap=plt.get_cmap('gray'))\n",
    "\n",
    "\n",
    "# Giving names to columns\n",
    "ax[0].set_title('Input GRAY', fontsize=16)\n",
    "ax[1].set_title('After Pooling', fontsize=16)\n",
    "\n",
    "\n",
    "# Adjusting distance between subplots\n",
    "plt.tight_layout()\n",
    "plt.subplots_adjust(left=0.1, right=0.9, bottom=0.1, top=0.9, wspace=0.1, hspace=0.9)\n",
    "\n",
    "\n",
    "# Saving the plot\n",
    "# (!) On Windows, the path might look like following:\n",
    "# r'images\\plot_pooling.png'\n",
    "# or:\n",
    "# 'images\\\\plot_pooling.png'\n",
    "figure.savefig('images/plot_pooling.png')\n",
    "\n",
    "\n",
    "# Showing the plot\n",
    "plt.show()\n"
   ]
  },
  {
   "cell_type": "markdown",
   "metadata": {},
   "source": [
    "### Some comments\n",
    "  \n",
    "<span style=\"font-size:13pt\">To get more details of usage subplots from matplotlib library:</span>  \n",
    "<span style=\"font-size:13pt\">**print(help(plt.subplots))**</span>  \n",
    "<span style=\"font-size:13pt\">**print(help(plt.subplots_adjust))**</span>  \n",
    "  \n",
    "<span style=\"font-size:13pt\">More details and examples are here:</span>  \n",
    "<span style=\"font-size:13pt\">https://matplotlib.org/3.1.0/api/_as_gen/matplotlib.pyplot.subplots.html</span>"
   ]
  },
  {
   "cell_type": "code",
   "execution_count": null,
   "metadata": {},
   "outputs": [],
   "source": [
    "print(help(plt.subplots))"
   ]
  },
  {
   "cell_type": "code",
   "execution_count": null,
   "metadata": {},
   "outputs": [],
   "source": [
    "print(help(plt.subplots_adjust))"
   ]
  }
 ],
 "metadata": {
  "kernelspec": {
   "display_name": "Python 3",
   "language": "python",
   "name": "python3"
  },
  "language_info": {
   "codemirror_mode": {
    "name": "ipython",
    "version": 3
   },
   "file_extension": ".py",
   "mimetype": "text/x-python",
   "name": "python",
   "nbconvert_exporter": "python",
   "pygments_lexer": "ipython3",
   "version": "3.7.7"
  }
 },
 "nbformat": 4,
 "nbformat_minor": 2
}
