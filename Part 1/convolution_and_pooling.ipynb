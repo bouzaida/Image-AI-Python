{
 "cells": [
  {
   "cell_type": "markdown",
   "metadata": {},
   "source": [
    "# Course:  Convolutional Neural Networks for Image Classification\n",
    "\n",
    "## Section-1\n",
    "\n",
    "<span style=\"font-size:14pt\">Quick Win #3: Convolution + Pooling</span>  \n",
    "  \n",
    "<span style=\"font-size:14pt\">**Description:**</span>  \n",
    "<span style=\"font-size:13pt\">*Combine two operations together*</span>  \n",
    "<span style=\"font-size:13pt\">*Plot resulted output images*</span>  \n",
    "  \n",
    "<span style=\"font-size:13pt\">**File:** *convolution_and_pooling.ipynb*</span>"
   ]
  },
  {
   "cell_type": "markdown",
   "metadata": {},
   "source": [
    "<span style=\"font-size:14pt\">**Algorithm:**</span>  \n",
    "  \n",
    "<span style=\"font-size:13pt\">**-->** Defining function for convolution operation</span>  \n",
    "<span style=\"font-size:13pt\">**-->** Defining function to exclude non-needed values</span>  \n",
    "<span style=\"font-size:13pt\">**-->** Defining function for pooling operation</span>  \n",
    "<span style=\"font-size:13pt\">**-->** Defining filters for convolution</span>  \n",
    "<span style=\"font-size:13pt\">**-->** Implementing architecture of 3 * [C, P]</span>  \n",
    "  \n",
    "<span style=\"font-size:13pt\">**Result:**\n",
    "Plot with input GRAY image and downsampled image after pooling</span>"
   ]
  },
  {
   "cell_type": "markdown",
   "metadata": {},
   "source": [
    "## Importing libraries"
   ]
  },
  {
   "cell_type": "code",
   "execution_count": null,
   "metadata": {},
   "outputs": [],
   "source": [
    "# Importing needed libraries\n",
    "import cv2\n",
    "import numpy as np\n",
    "import matplotlib.pyplot as plt\n",
    "\n",
    "# Importing library to see calculation progress inside loops in Real Time\n",
    "# To install, use following command: pip install tqdm\n",
    "# Don't forget to activate environment in which you're working\n",
    "from tqdm import tqdm\n"
   ]
  },
  {
   "cell_type": "markdown",
   "metadata": {},
   "source": [
    "## Function for 2D convolution"
   ]
  },
  {
   "cell_type": "code",
   "execution_count": null,
   "metadata": {},
   "outputs": [],
   "source": [
    "def convolution_2d(feature_map, f, pad=1, step=1):\n",
    "\n",
    "    # Hyperparameters for 2D convolution:\n",
    "    # f_size - filter (kernel) size (width and height are equal)\n",
    "    # step - stride (step) for sliding\n",
    "    # pad - zero-valued frame around image to process boundaries\n",
    "\n",
    "    # Output dimension is calculated by following equations:\n",
    "    # height_out = (height_in - f_size + 2 * pad) / step + 1\n",
    "    # width_out = (width_in - f_size + 2 * pad) / step + 1\n",
    "\n",
    "    # Calculating spatial size of output resulted array (width and height)\n",
    "    # Making output width and height as integer numbers,\n",
    "    # in case input width/height is odd\n",
    "    f_size = f.shape[0]  # (width and height are equal)\n",
    "    height_out = int((feature_map.shape[0] - f_size + 2 * pad) / step + 1)\n",
    "    width_out = int((feature_map.shape[1] - f_size + 2 * pad) / step + 1)\n",
    "\n",
    "    # Applying to feature map pad frame with zero values to process boundaries\n",
    "    # Using Numpy method 'pad'\n",
    "    feature_map_pad = np.pad(feature_map, (pad, pad),\n",
    "                             mode='constant',\n",
    "                             constant_values=0)\n",
    "\n",
    "    # Preparing zero valued output array for convolved feature map\n",
    "    output_feature_map = np.zeros((height_out, width_out))\n",
    "\n",
    "    # Implementing convolution operation to feature map\n",
    "    # Sliding through entire feature map (that is with pad frame) by filter\n",
    "    for i in tqdm(range(0, feature_map_pad.shape[0] - f_size + 1, step)):\n",
    "        for j in range(0, feature_map_pad.shape[1] - f_size + 1, step):\n",
    "            # Extracting (slicing) a patch (the same size with filter)\n",
    "            # from feature map with pad frame\n",
    "            patch = feature_map_pad[i:i+f_size, j:j+f_size]\n",
    "\n",
    "            # Applying elementwise multiplication and summation -\n",
    "            # this is convolution operation\n",
    "            # When we use '*' with matrices, then elementwise multiplication\n",
    "            # will be applied\n",
    "            output_feature_map[i, j] = np.sum(patch * f)\n",
    "\n",
    "    # Returning convolved feature map\n",
    "    return output_feature_map\n"
   ]
  },
  {
   "cell_type": "markdown",
   "metadata": {},
   "source": [
    "## Function to exclude non-needed values  \n",
    "### (less than 0 and more than 255)"
   ]
  },
  {
   "cell_type": "code",
   "execution_count": null,
   "metadata": {},
   "outputs": [],
   "source": [
    "def range_0_255(feature_map):\n",
    "\n",
    "    # To exclude values that are less than 0 and more than 255,\n",
    "    # Numpy function 'clip' is applied\n",
    "    # It keeps values of Numpy array in the given range\n",
    "    # And it replaces non-needed values with boundary numbers\n",
    "    output_feature_map = np.clip(feature_map, 0, 255)\n",
    "\n",
    "    # Returning processed feature map\n",
    "    return output_feature_map\n"
   ]
  },
  {
   "cell_type": "markdown",
   "metadata": {},
   "source": [
    "## Function for pooling"
   ]
  },
  {
   "cell_type": "code",
   "execution_count": null,
   "metadata": {},
   "outputs": [],
   "source": [
    "def pooling(feature_map, f_pooling=2, step=2):\n",
    "\n",
    "    # Hyperparameters for pooling:\n",
    "    # f_pooling - filter size for pooling (width and height are equal)\n",
    "    # step - stride (step) for sliding\n",
    "\n",
    "    # Output dimension is calculated by following equations:\n",
    "    # height_out = (height_in - f_pooling) / step + 1\n",
    "    # width_out = (width_in - f_pooling) / step + 1\n",
    "\n",
    "    # Calculating spatial size of output resulted array (width and height)\n",
    "    # Making output width and height as integer numbers,\n",
    "    # in case input width/height is odd\n",
    "    height_out = int((feature_map.shape[0] - 2) / 2 + 1)\n",
    "    width_out = int((feature_map.shape[1] - 2) / 2 + 1)\n",
    "\n",
    "    # Preparing zero valued output array for feature map after pooling\n",
    "    feature_map_after_pooling = np.zeros((height_out, width_out))\n",
    "\n",
    "    # Implementing pooling operation\n",
    "    # Preparing indexes for rows of output array\n",
    "    ii = 0\n",
    "\n",
    "    # Sliding through entire feature map\n",
    "    # Wrapping the loop with 'tqdm' in order to see progress in real time\n",
    "    for i in tqdm(range(0, feature_map.shape[0] - f_pooling + 1, step)):\n",
    "        # Preparing indexes for columns of output array\n",
    "        jj = 0\n",
    "\n",
    "        for j in range(0, feature_map.shape[1] - f_pooling + 1, step):\n",
    "            # Extracting (slicing) a 2x2 patch (the same size with filter)\n",
    "            # from feature map\n",
    "            patch = feature_map[i:i+f_pooling, j:j+f_pooling]\n",
    "\n",
    "            # Applying max pooling operation - choosing maximum element\n",
    "            # from the current patch\n",
    "            feature_map_after_pooling[ii, jj] = np.max(patch)\n",
    "\n",
    "            # Increasing indexes for rows of output array\n",
    "            jj += 1\n",
    "\n",
    "        # Increasing indexes for columns of output array\n",
    "        ii += 1\n",
    "\n",
    "    # Returning feature map after pooling\n",
    "    return feature_map_after_pooling\n"
   ]
  },
  {
   "cell_type": "markdown",
   "metadata": {},
   "source": [
    "## Defining filters (kernels) for convolution"
   ]
  },
  {
   "cell_type": "code",
   "execution_count": null,
   "metadata": {},
   "outputs": [],
   "source": [
    "# Setting common filters (kernels) with size 3x3 for edge detection\n",
    "\n",
    "# Sobel filter to detect vertical changes on image\n",
    "filter_1 = np.array([[1, 0, -1],\n",
    "                     [2, 0, -2],\n",
    "                     [1, 0, -1]])\n",
    "\n",
    "# Laplacian filter to detect regions with different brightness on image\n",
    "filter_2 = np.array([[0, 1, 0],\n",
    "                     [1, -4, 1],\n",
    "                     [0, 1, 0]])\n",
    "\n",
    "# Prewitt filter to detect vertical changes on image\n",
    "filter_3 = np.array([[1, 0, -1],\n",
    "                     [1, 0, -1],\n",
    "                     [1, 0, -1]])\n",
    "\n",
    "\n",
    "# Setting random filters (kernels) with size 3x3\n",
    "# and integer numbers in range [-1, 1]\n",
    "filter_11 = np.random.randint(low=-1, high=1, size=(3, 3))\n",
    "filter_22 = np.random.randint(low=-1, high=1, size=(3, 3))\n",
    "filter_33 = np.random.randint(low=-1, high=1, size=(3, 3))\n"
   ]
  },
  {
   "cell_type": "markdown",
   "metadata": {},
   "source": [
    "## Reading input image and converting into GRAY"
   ]
  },
  {
   "cell_type": "code",
   "execution_count": null,
   "metadata": {},
   "outputs": [],
   "source": [
    "# Reading coloured input image by OpenCV library\n",
    "# In this way image is opened already as Numpy array\n",
    "\n",
    "# (!) OpenCV by default reads image in BGR format (order of channels)\n",
    "# (!) On Windows, the path might look like following:\n",
    "# r'images\\cat.png'\n",
    "# or:\n",
    "# 'images\\\\cat.png'\n",
    "image_BGR = cv2.imread('images/cat.png')\n",
    "\n",
    "\n",
    "# Converting input image to GRAY by OpenCV function\n",
    "image_GRAY = cv2.cvtColor(image_BGR, cv2.COLOR_BGR2GRAY)\n"
   ]
  },
  {
   "cell_type": "markdown",
   "metadata": {},
   "source": [
    "## Implementing architecture: [C1, P1]-->[C2, P2]-->[C3, P3]"
   ]
  },
  {
   "cell_type": "code",
   "execution_count": null,
   "metadata": {},
   "outputs": [],
   "source": [
    "# [C1, P1]\n",
    "# Applying 2D convolution\n",
    "c1 = convolution_2d(image_GRAY, filter_1, pad=1, step=1)\n",
    "# Excluding non-needed values\n",
    "c1 = range_0_255(c1)\n",
    "# Applying pooling\n",
    "c1_p1 = pooling(c1, f_pooling=2, step=2)\n",
    "\n",
    "\n",
    "# [C2, P2]\n",
    "# Applying 2D convolution\n",
    "c2 = convolution_2d(c1_p1, filter_2, pad=1, step=1)\n",
    "# Excluding non-needed values\n",
    "c2 = range_0_255(c2)\n",
    "# Applying pooling\n",
    "c2_p2 = pooling(c2, f_pooling=2, step=2)\n",
    "\n",
    "\n",
    "# [C3, P3]\n",
    "# Applying 2D convolution\n",
    "c3 = convolution_2d(c2_p2, filter_3, pad=1, step=1)\n",
    "# Excluding non-needed values\n",
    "c3 = range_0_255(c3)\n",
    "# Applying pooling\n",
    "c3_p3 = pooling(c3, f_pooling=2, step=2)\n",
    "\n",
    "\n",
    "# Check point\n",
    "# Showing shape of GRAY image\n",
    "print('{0} Shape of input GRAY image'.format(image_GRAY.shape))\n",
    "print()\n",
    "\n",
    "# Showing shape of feature map after [C1] and [P1]\n",
    "print('{0} Shape of feature map after [C1]'.format(c1.shape))\n",
    "print('{0} Shape of feature map after [P1]'.format(c1_p1.shape))\n",
    "print()\n",
    "\n",
    "# Showing shape of feature map after [C2] and [P2]\n",
    "print('{0} Shape of feature map after [C2]'.format(c2.shape))\n",
    "print('{0} Shape of feature map after [P2]'.format(c2_p2.shape))\n",
    "print()\n",
    "\n",
    "# Showing shape of feature map after [C3] and [P3]\n",
    "print('{0} Shape of feature map after [C3]'.format(c3.shape))\n",
    "print('{0} Shape of feature map after [P3]'.format(c3_p3.shape))\n"
   ]
  },
  {
   "cell_type": "markdown",
   "metadata": {},
   "source": [
    "## Plotting resulted feature maps"
   ]
  },
  {
   "cell_type": "code",
   "execution_count": null,
   "metadata": {
    "scrolled": false
   },
   "outputs": [],
   "source": [
    "# Magic function that renders the figure in a jupyter notebook\n",
    "# instead of displaying a figure object\n",
    "%matplotlib inline\n",
    "\n",
    "\n",
    "# Setting default size of the plot\n",
    "plt.rcParams['figure.figsize'] = (18.0, 10.0)\n",
    "\n",
    "\n",
    "# Defining a figure object with number of needed subplots\n",
    "# ax is a (7,) Numpy array and to access specific subplot we call it by ax[0]\n",
    "# 'gridspec_kw' is the dictionary with keywords to specify the ratio of subplots\n",
    "# --------------------------------------------------[I, C1, P1, C2, P2, C3, P3]\n",
    "figure, ax = plt.subplots(nrows=1, ncols=7,\n",
    "                          gridspec_kw={'width_ratios': [8, 8, 4, 4, 2, 2, 1]})\n",
    "\n",
    "\n",
    "# Adjusting first column with input GRAY image\n",
    "ax[0].imshow(image_GRAY, cmap=plt.get_cmap('gray'))\n",
    "\n",
    "# Adjusting second column with feature map after C1\n",
    "ax[1].imshow(c1, cmap=plt.get_cmap('gray'))\n",
    "\n",
    "# Adjusting third column with feature map after P1\n",
    "ax[2].imshow(c1_p1, cmap=plt.get_cmap('gray'))\n",
    "\n",
    "# Adjusting fourth column with feature map after C2\n",
    "ax[3].imshow(c2, cmap=plt.get_cmap('gray'))\n",
    "\n",
    "# Adjusting fifth column with feature map after P2\n",
    "ax[4].imshow(c2_p2, cmap=plt.get_cmap('gray'))\n",
    "\n",
    "# Adjusting sixth column with feature map after C3\n",
    "ax[5].imshow(c3, cmap=plt.get_cmap('gray'))\n",
    "\n",
    "# Adjusting seventh column with feature map after P3\n",
    "ax[6].imshow(c3_p3, cmap=plt.get_cmap('gray'))\n",
    "\n",
    "\n",
    "# Giving names to columns\n",
    "ax[0].set_title('Input GRAY', fontsize=12)\n",
    "ax[1].set_title('C1', fontsize=12)\n",
    "ax[2].set_title('P1', fontsize=12)\n",
    "ax[3].set_title('C2', fontsize=12)\n",
    "ax[4].set_title('P2', fontsize=12)\n",
    "ax[5].set_title('C3', fontsize=12)\n",
    "ax[6].set_title('P3', fontsize=12)\n",
    "\n",
    "\n",
    "# Hiding axes to all subplots\n",
    "for a in range(7):\n",
    "    ax[a].axis('off')\n",
    "\n",
    "\n",
    "# Adjusting distance between subplots\n",
    "plt.tight_layout()\n",
    "plt.subplots_adjust(left=0.1, right=0.9, bottom=0.1, top=0.9, wspace=0.1, hspace=0.1)\n",
    "\n",
    "\n",
    "# Saving the plot\n",
    "# (!) On Windows, the path might look like following:\n",
    "# r'images\\plot_pooling.png'\n",
    "# or:\n",
    "# 'images\\\\plot_pooling.png'\n",
    "figure.savefig('images/plot_convolution_and_pooling.png')\n",
    "\n",
    "\n",
    "# Showing the plot\n",
    "plt.show()\n"
   ]
  },
  {
   "cell_type": "markdown",
   "metadata": {},
   "source": [
    "### Some comments\n",
    "  \n",
    "<span style=\"font-size:13pt\">To get more details for generating random integer numbers from Numpy library:</span>  \n",
    "<span style=\"font-size:13pt\">**print(help(np.random.randint))**</span>  \n",
    "  \n",
    "<span style=\"font-size:13pt\">To get more details for usage of built-in format function:</span>  \n",
    "<span style=\"font-size:13pt\">**print(help(''.format))**</span>"
   ]
  },
  {
   "cell_type": "code",
   "execution_count": null,
   "metadata": {
    "scrolled": true
   },
   "outputs": [],
   "source": [
    "print(help(np.random.randint))"
   ]
  },
  {
   "cell_type": "code",
   "execution_count": null,
   "metadata": {
    "scrolled": true
   },
   "outputs": [],
   "source": [
    "print(help(''.format))"
   ]
  }
 ],
 "metadata": {
  "kernelspec": {
   "display_name": "Python 3",
   "language": "python",
   "name": "python3"
  },
  "language_info": {
   "codemirror_mode": {
    "name": "ipython",
    "version": 3
   },
   "file_extension": ".py",
   "mimetype": "text/x-python",
   "name": "python",
   "nbconvert_exporter": "python",
   "pygments_lexer": "ipython3",
   "version": "3.7.7"
  }
 },
 "nbformat": 4,
 "nbformat_minor": 2
}
