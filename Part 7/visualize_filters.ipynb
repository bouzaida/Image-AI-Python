{
 "cells": [
  {
   "cell_type": "markdown",
   "metadata": {},
   "source": [
    "# Course:  Convolutional Neural Networks for Image Classification\n",
    "\n",
    "## Section-6\n",
    "### Visualize training process of filters\n",
    "\n",
    "**Description:**  \n",
    "*Compose video to show process of training filters for convolutional layer  \n",
    "Demonstrate results*  \n",
    "\n",
    "**File:** *visualize_filters.ipynb*"
   ]
  },
  {
   "cell_type": "markdown",
   "metadata": {},
   "source": [
    "### Algorithm:\n",
    "\n",
    "**--> Step 1:** Load saved CNN model  \n",
    "**--> Step 2:** Load and assign best weights  \n",
    "**--> Step 3:** Visualize filters of the 1st convolutional layer  \n",
    "**--> Step 4:** Convert intermediate weights into images  \n",
    "\n",
    "\n",
    "**Result:**  \n",
    "- Images of intermediate weights"
   ]
  },
  {
   "cell_type": "markdown",
   "metadata": {},
   "source": [
    "## Importing libraries"
   ]
  },
  {
   "cell_type": "code",
   "execution_count": null,
   "metadata": {},
   "outputs": [],
   "source": [
    "# Importing needed libraries\n",
    "import matplotlib.pyplot as plt\n",
    "import numpy as np\n",
    "import h5py\n",
    "\n",
    "\n",
    "from keras.models import load_model\n"
   ]
  },
  {
   "cell_type": "markdown",
   "metadata": {},
   "source": [
    "## Setting up full path"
   ]
  },
  {
   "cell_type": "code",
   "execution_count": null,
   "metadata": {},
   "outputs": [],
   "source": [
    "# Full or absolute path to 'Section5' with designed models\n",
    "# (!) On Windows, the path should look like following:\n",
    "# r'C:\\Users\\your_name\\PycharmProjects\\CNNCourse\\Section5'\n",
    "# or:\n",
    "# 'C:\\\\Users\\\\your_name\\\\PycharmProjects\\\\CNNCourse\\\\Section5'\n",
    "full_path_to_Section5 = \\\n",
    "    '/home/valentyn/PycharmProjects/CNNCourse/Section5'\n"
   ]
  },
  {
   "cell_type": "markdown",
   "metadata": {},
   "source": [
    "## Defining function to plot filters"
   ]
  },
  {
   "cell_type": "code",
   "execution_count": null,
   "metadata": {},
   "outputs": [],
   "source": [
    "# Defining function to collect all filters in one grid\n",
    "def convert_to_grid(x_input):\n",
    "    # Getting shape values of the input\n",
    "    number, height, width, channels = x_input.shape\n",
    "    \n",
    "    # Calculating grid size, number of rows and columns\n",
    "    # Every element of the grid represents one filter\n",
    "    grid_size = int(np.ceil(np.sqrt(number)))\n",
    "    \n",
    "    # Calculating height and width of entire grid according to\n",
    "    # number of pixels along X and Y axes\n",
    "    # Adding extra pixels to be as gaps in between filters\n",
    "    grid_height = height * grid_size + (grid_size - 1)\n",
    "    grid_width = width * grid_size + (grid_size - 1)\n",
    "    \n",
    "    # Creating Numpy array for the grid\n",
    "    # Filling all grid pixels with white colour\n",
    "    grid = np.zeros((grid_height, grid_width, channels)) + 255\n",
    "    \n",
    "    # Defining index for current filter\n",
    "    n = 0\n",
    "    \n",
    "    # Defining positions for current filter along Y axis of the grid\n",
    "    y_min, y_max = 0, height\n",
    "    \n",
    "    # Iterating all grid elements and filling them with filters' values\n",
    "    # Iterating every row of the grid elements\n",
    "    for y in range(grid_size):\n",
    "        # Defining positions for current filter along X axis of the grid\n",
    "        x_min, x_max = 0, width\n",
    "        \n",
    "        # Iterating every column of the current row\n",
    "        for x in range(grid_size):\n",
    "            # Checking if current index of the filter is less \n",
    "            # than total number of filters\n",
    "            if n < number:\n",
    "                # Getting current filter from the input\n",
    "                filter_current = x_input[n]\n",
    "                \n",
    "                # Extracting minimum and maximum values of current filter\n",
    "                f_min, f_max = np.min(filter_current), np.max(filter_current)\n",
    "                \n",
    "                # Scaling filter's values to be in range [0, 255]\n",
    "                # Assigning scaled values to appropriate positions in the grid\n",
    "                grid[y_min:y_max, x_min:x_max] = 255.0 * (filter_current - f_min) / (f_max - f_min)\n",
    "                \n",
    "                # Increasing index of current filter\n",
    "                n += 1\n",
    "            \n",
    "            # Moving positions for current filter along X axis of the grid\n",
    "            # Adding 1 pixel to be as gap in between filters\n",
    "            x_min += width + 1\n",
    "            x_max += width + 1\n",
    "        \n",
    "        # Moving positions for current filter along Y axis of the grid\n",
    "        # Adding 1 pixel to be as gap in between filters\n",
    "        y_min += height + 1\n",
    "        y_max += height + 1\n",
    "        \n",
    "    # Returning grid filled with filters\n",
    "    return grid\n",
    "\n",
    "\n",
    "# Check point\n",
    "print('Function to create a grid is successfully defined')\n",
    "print()\n",
    "\n",
    "\n",
    "# Check point\n",
    "# Showing how function 'np.ceil' rounds the number\n",
    "s = np.sqrt(15)\n",
    "print(s)\n",
    "\n",
    "c = np.ceil(s)\n",
    "print(c)\n"
   ]
  },
  {
   "cell_type": "markdown",
   "metadata": {},
   "source": [
    "### Custom dataset, 2nd RGB model\n",
    "\n",
    "## Step 1: Loading saved 2nd model"
   ]
  },
  {
   "cell_type": "code",
   "execution_count": null,
   "metadata": {},
   "outputs": [],
   "source": [
    "# Loading 2nd model for custom dataset\n",
    "# (!) On Windows, it might need to change\n",
    "# this: + '/' +\n",
    "# to this: + '\\' +\n",
    "# or to this: + '\\\\' +\n",
    "model_rgb = load_model(full_path_to_Section5 + '/' + 'custom' + '/' + 'model_2_custom_rgb.h5')\n",
    "\n",
    "\n",
    "# Check point\n",
    "print('Model is successfully loaded')\n"
   ]
  },
  {
   "cell_type": "markdown",
   "metadata": {},
   "source": [
    "### Custom dataset, 2nd RGB model\n",
    "\n",
    "## Step 2: Loading and assigning best weights"
   ]
  },
  {
   "cell_type": "code",
   "execution_count": null,
   "metadata": {},
   "outputs": [],
   "source": [
    "# loading and assigning best weights\n",
    "# (!) On Windows, it might need to change\n",
    "# this: + '/' +\n",
    "# to this: + '\\' +\n",
    "# or to this: + '\\\\' +\n",
    "model_rgb.load_weights('custom' + '/' + 'w_2_custom_rgb_255_mean_std.h5')\n",
    "\n",
    "\n",
    "# Check point\n",
    "print('Best weights for 2nd RGB model are loaded and assigned')\n"
   ]
  },
  {
   "cell_type": "markdown",
   "metadata": {},
   "source": [
    "### Custom dataset, 2nd RGB model\n",
    "\n",
    "## Step 3: Visualizing filters of convolutional layer"
   ]
  },
  {
   "cell_type": "code",
   "execution_count": null,
   "metadata": {},
   "outputs": [],
   "source": [
    "# Getting all the weights from entire model\n",
    "w = model_rgb.get_weights()\n",
    "\n",
    "\n",
    "# Check point\n",
    "# Showing shape of the weights for convolutional layer\n",
    "print(w[0].shape)\n",
    "\n",
    "\n",
    "# Moving last dimension to the first position\n",
    "# Reshaping Numpy array from\n",
    "# (height, width, channels, number) to\n",
    "# (number, height, width, channels)\n",
    "w[0] = w[0].transpose(3, 0, 1, 2)\n",
    "\n",
    "\n",
    "# Check point\n",
    "# Showing shape of the weights for convolutional layer\n",
    "print(w[0].shape)\n"
   ]
  },
  {
   "cell_type": "code",
   "execution_count": null,
   "metadata": {},
   "outputs": [],
   "source": [
    "# Magic function that renders the figure in a jupyter notebook\n",
    "# instead of displaying a figure object\n",
    "%matplotlib inline\n",
    "\n",
    "\n",
    "# Converting weights of convolutional layer into a grid\n",
    "grid = convert_to_grid(w[0])\n",
    "\n",
    "\n",
    "# Plotting the grid\n",
    "plt.imshow(grid.astype('uint8'))\n",
    "\n",
    "\n",
    "# Switching off axes\n",
    "# Setting size of the plot (width, height) in inches\n",
    "plt.axis('off')\n",
    "plt.gcf().set_size_inches(10, 10)\n",
    "\n",
    "\n",
    "# Showing the plot\n",
    "plt.show()\n"
   ]
  },
  {
   "cell_type": "markdown",
   "metadata": {},
   "source": [
    "### Custom dataset, 2nd model\n",
    "\n",
    "## Step 4: Converting intermediate weights into images"
   ]
  },
  {
   "cell_type": "code",
   "execution_count": null,
   "metadata": {
    "scrolled": true
   },
   "outputs": [],
   "source": [
    "# Iterating all saved intermediate weights\n",
    "for i in range(350):\n",
    "    # Opening saved binary file with intermediate weights\n",
    "    # (!) On Windows, it might need to change\n",
    "    # this: + '/' +\n",
    "    # to this: + '\\' +\n",
    "    # or to this: + '\\\\' +\n",
    "    with h5py.File('custom/intermediate/' + '{0:04d}'.format(i) + \\\n",
    "                   '_w_2_custom_rgb_255_mean_std.h5', 'r') as f:\n",
    "        # Extracting saved array with intermediate weights by appropriate key\n",
    "        # Saving them into new variable\n",
    "        weights = f['weights_layer_0']  # HDF5 dataset\n",
    "\n",
    "        # Converting them into Numpy array\n",
    "        weights = np.array(weights)  # Numpy arrays\n",
    "\n",
    "    \n",
    "    # Moving last dimension to the first position\n",
    "    # Reshaping Numpy array from\n",
    "    # (height, width, channels, number) to\n",
    "    # (number, height, width, channels)\n",
    "    weights = weights.transpose(3, 0, 1, 2)\n",
    "    \n",
    "    \n",
    "    # Converting weights of convolutional layer into a grid\n",
    "    grid = convert_to_grid(weights)\n",
    "    \n",
    "    \n",
    "    # Plotting the grid\n",
    "    plt.imshow(grid.astype('uint8'))\n",
    "    \n",
    "    \n",
    "    # Switching off axes\n",
    "    # Setting size of the plot (width, height) in inches\n",
    "    plt.axis('off')\n",
    "    plt.gcf().set_size_inches(10, 10)\n",
    "    \n",
    "    \n",
    "    # Saving the plot into image file\n",
    "    # (!) On Windows, it might need to change\n",
    "    # this: + '/' +\n",
    "    # to this: + '\\' +\n",
    "    # or to this: + '\\\\' +\n",
    "    plt.savefig('custom/intermediate/images/' + '{0:04d}'.format(i) + '.png', dpi=300)\n",
    "    \n",
    "    \n",
    "    # Closing the plot\n",
    "    plt.close()\n",
    "    \n",
    "    \n",
    "    # Check point\n",
    "    print('{0:04d}.png is created'.format(i))\n"
   ]
  },
  {
   "cell_type": "markdown",
   "metadata": {},
   "source": [
    "### CIFAR-10 dataset, 2nd model\n",
    "\n",
    "## Step 1: Loading saved 2nd model"
   ]
  },
  {
   "cell_type": "code",
   "execution_count": null,
   "metadata": {},
   "outputs": [],
   "source": [
    "# Loading 2nd model for CIFAR-10 dataset\n",
    "# (!) On Windows, it might need to change\n",
    "# this: + '/' +\n",
    "# to this: + '\\' +\n",
    "# or to this: + '\\\\' +\n",
    "model_rgb = load_model(full_path_to_Section5 + '/' + 'cifar10' + '/' + 'model_2_cifar10_rgb.h5')\n",
    "\n",
    "\n",
    "# Check point\n",
    "print('Model is successfully loaded')\n"
   ]
  },
  {
   "cell_type": "markdown",
   "metadata": {},
   "source": [
    "### CIFAR-10 dataset, 2nd model\n",
    "\n",
    "## Step 2: Loading and assigning best weights"
   ]
  },
  {
   "cell_type": "code",
   "execution_count": null,
   "metadata": {},
   "outputs": [],
   "source": [
    "# loading and assigning best weights\n",
    "# (!) On Windows, it might need to change\n",
    "# this: + '/' +\n",
    "# to this: + '\\' +\n",
    "# or to this: + '\\\\' +\n",
    "model_rgb.load_weights('cifar10' + '/' + 'w_2_cifar10_rgb_255_mean_std.h5')\n",
    "\n",
    "\n",
    "# Check point\n",
    "print('Best weights for 2nd RGB model are loaded and assigned')\n"
   ]
  },
  {
   "cell_type": "markdown",
   "metadata": {},
   "source": [
    "### CIFAR-10 dataset, 2nd model\n",
    "\n",
    "## Step 3: Visualizing filters of convolutional layer"
   ]
  },
  {
   "cell_type": "code",
   "execution_count": null,
   "metadata": {},
   "outputs": [],
   "source": [
    "# Getting all the weights from entire model\n",
    "w = model_rgb.get_weights()\n",
    "\n",
    "\n",
    "# Check point\n",
    "# Showing shape of the weights for convolutional layer\n",
    "print(w[0].shape)\n",
    "\n",
    "\n",
    "# Moving last dimension to the first position\n",
    "# Reshaping Numpy array from\n",
    "# (height, width, channels, number) to\n",
    "# (number, height, width, channels)\n",
    "w[0] = w[0].transpose(3, 0, 1, 2)\n",
    "\n",
    "\n",
    "# Check point\n",
    "# Showing shape of the weights for convolutional layer\n",
    "print(w[0].shape)\n"
   ]
  },
  {
   "cell_type": "code",
   "execution_count": null,
   "metadata": {},
   "outputs": [],
   "source": [
    "# Magic function that renders the figure in a jupyter notebook\n",
    "# instead of displaying a figure object\n",
    "%matplotlib inline\n",
    "\n",
    "\n",
    "# Converting weights of convolutional layer into a grid\n",
    "grid = convert_to_grid(w[0])\n",
    "\n",
    "\n",
    "# Plotting the grid\n",
    "plt.imshow(grid.astype('uint8'))\n",
    "\n",
    "\n",
    "# Switching off axes\n",
    "# Setting size of the plot (width, height) in inches\n",
    "plt.axis('off')\n",
    "plt.gcf().set_size_inches(10, 10)\n",
    "\n",
    "\n",
    "# Showing the plot\n",
    "plt.show()\n"
   ]
  },
  {
   "cell_type": "markdown",
   "metadata": {},
   "source": [
    "### CIFAR-10 dataset, 2nd model\n",
    "\n",
    "## Step 4: Converting intermediate weights into images"
   ]
  },
  {
   "cell_type": "code",
   "execution_count": null,
   "metadata": {
    "scrolled": true
   },
   "outputs": [],
   "source": [
    "# Iterating all saved intermediate weights\n",
    "for i in range(450):\n",
    "    # Opening saved binary file with intermediate weights\n",
    "    # (!) On Windows, it might need to change\n",
    "    # this: + '/' +\n",
    "    # to this: + '\\' +\n",
    "    # or to this: + '\\\\' +\n",
    "    with h5py.File('cifar10/intermediate/' + '{0:04d}'.format(i) + \\\n",
    "                   '_w_2_cifar10_rgb_255_mean_std.h5', 'r') as f:\n",
    "        # Extracting saved array with intermediate weights by appropriate key\n",
    "        # Saving them into new variable\n",
    "        weights = f['weights_layer_0']  # HDF5 dataset\n",
    "\n",
    "        # Converting them into Numpy array\n",
    "        weights = np.array(weights)  # Numpy arrays\n",
    "\n",
    "    \n",
    "    # Moving last dimension to the first position\n",
    "    # Reshaping Numpy array from\n",
    "    # (height, width, channels, number) to\n",
    "    # (number, height, width, channels)\n",
    "    weights = weights.transpose(3, 0, 1, 2)\n",
    "    \n",
    "    \n",
    "    # Converting weights of convolutional layer into a grid\n",
    "    grid = convert_to_grid(weights)\n",
    "    \n",
    "    \n",
    "    # Plotting the grid\n",
    "    plt.imshow(grid.astype('uint8'))\n",
    "    \n",
    "    \n",
    "    # Switching off axes\n",
    "    # Setting size of the plot (width, height) in inches\n",
    "    plt.axis('off')\n",
    "    plt.gcf().set_size_inches(10, 10)\n",
    "    \n",
    "    \n",
    "    # Saving the plot into image file\n",
    "    # (!) On Windows, it might need to change\n",
    "    # this: + '/' +\n",
    "    # to this: + '\\' +\n",
    "    # or to this: + '\\\\' +\n",
    "    plt.savefig('cifar10/intermediate/images/' + '{0:04d}'.format(i) + '.png', dpi=300)\n",
    "    \n",
    "    \n",
    "    # Closing the plot\n",
    "    plt.close()\n",
    "    \n",
    "    \n",
    "    # Check point\n",
    "    print('{0:04d}.png is created'.format(i))\n"
   ]
  },
  {
   "cell_type": "markdown",
   "metadata": {},
   "source": [
    "### MNIST dataset, 2nd model\n",
    "\n",
    "## Step 1: Loading saved 2nd model"
   ]
  },
  {
   "cell_type": "code",
   "execution_count": null,
   "metadata": {},
   "outputs": [],
   "source": [
    "# Loading 2nd model for MNIST dataset\n",
    "# (!) On Windows, it might need to change\n",
    "# this: + '/' +\n",
    "# to this: + '\\' +\n",
    "# or to this: + '\\\\' +\n",
    "model_gray = load_model(full_path_to_Section5 + '/' + 'mnist' + '/' + 'model_2_mnist_gray.h5')\n",
    "\n",
    "\n",
    "# Check point\n",
    "print('Model is successfully loaded')\n"
   ]
  },
  {
   "cell_type": "markdown",
   "metadata": {},
   "source": [
    "### MNIST dataset, 2nd model\n",
    "\n",
    "## Step 2: Loading and assigning best weights"
   ]
  },
  {
   "cell_type": "code",
   "execution_count": null,
   "metadata": {},
   "outputs": [],
   "source": [
    "# loading and assigning best weights\n",
    "# (!) On Windows, it might need to change\n",
    "# this: + '/' +\n",
    "# to this: + '\\' +\n",
    "# or to this: + '\\\\' +\n",
    "model_gray.load_weights('mnist' + '/' + 'w_2_mnist_gray_255_mean_std.h5')\n",
    "\n",
    "\n",
    "# Check point\n",
    "print('Best weights for 2nd GRAY model are loaded and assigned')\n"
   ]
  },
  {
   "cell_type": "markdown",
   "metadata": {},
   "source": [
    "### MNIST dataset, 2nd model\n",
    "\n",
    "## Step 3: Visualizing filters of convolutional layer"
   ]
  },
  {
   "cell_type": "code",
   "execution_count": null,
   "metadata": {},
   "outputs": [],
   "source": [
    "# Getting all the weights from entire model\n",
    "w = model_gray.get_weights()\n",
    "\n",
    "\n",
    "# Check point\n",
    "# Showing shape of the weights for convolutional layer\n",
    "print(w[0].shape)\n",
    "\n",
    "\n",
    "# Moving last dimension to the first position\n",
    "# Reshaping Numpy array from\n",
    "# (height, width, channels, number) to\n",
    "# (number, height, width, channels)\n",
    "w[0] = w[0].transpose(3, 0, 1, 2)\n",
    "\n",
    "\n",
    "# Check point\n",
    "# Showing shape of the weights for convolutional layer\n",
    "print(w[0].shape)\n"
   ]
  },
  {
   "cell_type": "code",
   "execution_count": null,
   "metadata": {},
   "outputs": [],
   "source": [
    "# Magic function that renders the figure in a jupyter notebook\n",
    "# instead of displaying a figure object\n",
    "%matplotlib inline\n",
    "\n",
    "\n",
    "# Converting weights of convolutional layer into a grid\n",
    "grid = convert_to_grid(w[0])\n",
    "\n",
    "\n",
    "# Plotting the grid\n",
    "plt.imshow(grid.astype('uint8'), cmap='gray')\n",
    "\n",
    "\n",
    "# Switching off axes\n",
    "# Setting size of the plot (width, height) in inches\n",
    "plt.axis('off')\n",
    "plt.gcf().set_size_inches(10, 10)\n",
    "\n",
    "\n",
    "# Showing the plot\n",
    "plt.show()\n"
   ]
  },
  {
   "cell_type": "markdown",
   "metadata": {},
   "source": [
    "### MNIST dataset, 2nd model\n",
    "\n",
    "## Step 4: Converting intermediate weights into images"
   ]
  },
  {
   "cell_type": "code",
   "execution_count": null,
   "metadata": {
    "scrolled": true
   },
   "outputs": [],
   "source": [
    "# Iterating all saved intermediate weights\n",
    "for i in range(550):\n",
    "    # Opening saved binary file with intermediate weights\n",
    "    # (!) On Windows, it might need to change\n",
    "    # this: + '/' +\n",
    "    # to this: + '\\' +\n",
    "    # or to this: + '\\\\' +\n",
    "    with h5py.File('mnist/intermediate/' + '{0:04d}'.format(i) + \\\n",
    "                   '_w_2_mnist_gray_255_mean_std.h5', 'r') as f:\n",
    "        # Extracting saved array with intermediate weights by appropriate key\n",
    "        # Saving them into new variable\n",
    "        weights = f['weights_layer_0']  # HDF5 dataset\n",
    "\n",
    "        # Converting them into Numpy array\n",
    "        weights = np.array(weights)  # Numpy arrays\n",
    "\n",
    "    \n",
    "    # Moving last dimension to the first position\n",
    "    # Reshaping Numpy array from\n",
    "    # (height, width, channels, number) to\n",
    "    # (number, height, width, channels)\n",
    "    weights = weights.transpose(3, 0, 1, 2)\n",
    "    \n",
    "    \n",
    "    # Converting weights of convolutional layer into a grid\n",
    "    grid = convert_to_grid(weights)\n",
    "    \n",
    "    \n",
    "    # Plotting the grid\n",
    "    plt.imshow(grid.astype('uint8'), cmap='gray')\n",
    "    \n",
    "    \n",
    "    # Switching off axes\n",
    "    # Setting size of the plot (width, height) in inches\n",
    "    plt.axis('off')\n",
    "    plt.gcf().set_size_inches(10, 10)\n",
    "    \n",
    "    \n",
    "    # Saving the plot into image file\n",
    "    # (!) On Windows, it might need to change\n",
    "    # this: + '/' +\n",
    "    # to this: + '\\' +\n",
    "    # or to this: + '\\\\' +\n",
    "    plt.savefig('mnist/intermediate/images/' + '{0:04d}'.format(i) + '.png', dpi=300)\n",
    "    \n",
    "    \n",
    "    # Closing the plot\n",
    "    plt.close()\n",
    "    \n",
    "    \n",
    "    # Check point\n",
    "    print('{0:04d}.png is created'.format(i))\n"
   ]
  },
  {
   "cell_type": "markdown",
   "metadata": {},
   "source": [
    "### Traffic Signs dataset, 2nd model\n",
    "\n",
    "## Step 1: Loading saved 2nd model"
   ]
  },
  {
   "cell_type": "code",
   "execution_count": null,
   "metadata": {},
   "outputs": [],
   "source": [
    "# Loading 2nd model for Traffic Signs dataset\n",
    "# (!) On Windows, it might need to change\n",
    "# this: + '/' +\n",
    "# to this: + '\\' +\n",
    "# or to this: + '\\\\' +\n",
    "model_rgb = load_model(full_path_to_Section5 + '/' + 'ts' + '/' + 'model_2_ts_rgb.h5')\n",
    "\n",
    "\n",
    "# Check point\n",
    "print('Model is successfully loaded')\n"
   ]
  },
  {
   "cell_type": "markdown",
   "metadata": {},
   "source": [
    "### Traffic Signs dataset, 2nd model\n",
    "\n",
    "## Step 2: Loading and assigning best weights"
   ]
  },
  {
   "cell_type": "code",
   "execution_count": null,
   "metadata": {},
   "outputs": [],
   "source": [
    "# loading and assigning best weights\n",
    "# (!) On Windows, it might need to change\n",
    "# this: + '/' +\n",
    "# to this: + '\\' +\n",
    "# or to this: + '\\\\' +\n",
    "model_rgb.load_weights('ts' + '/' + 'w_2_ts_rgb_255_mean_std.h5')\n",
    "\n",
    "\n",
    "# Check point\n",
    "print('Best weights for 2nd RGB model are loaded and assigned')\n"
   ]
  },
  {
   "cell_type": "markdown",
   "metadata": {},
   "source": [
    "### Traffic Signs dataset, 2nd model\n",
    "\n",
    "## Step 3: Visualizing filters of convolutional layer"
   ]
  },
  {
   "cell_type": "code",
   "execution_count": null,
   "metadata": {},
   "outputs": [],
   "source": [
    "# Getting all the weights from entire model\n",
    "w = model_rgb.get_weights()\n",
    "\n",
    "\n",
    "# Check point\n",
    "# Showing shape of the weights for convolutional layer\n",
    "print(w[0].shape)\n",
    "\n",
    "\n",
    "# Moving last dimension to the first position\n",
    "# Reshaping Numpy array from\n",
    "# (height, width, channels, number) to\n",
    "# (number, height, width, channels)\n",
    "w[0] = w[0].transpose(3, 0, 1, 2)\n",
    "\n",
    "\n",
    "# Check point\n",
    "# Showing shape of the weights for convolutional layer\n",
    "print(w[0].shape)\n"
   ]
  },
  {
   "cell_type": "code",
   "execution_count": null,
   "metadata": {},
   "outputs": [],
   "source": [
    "# Magic function that renders the figure in a jupyter notebook\n",
    "# instead of displaying a figure object\n",
    "%matplotlib inline\n",
    "\n",
    "\n",
    "# Converting weights of convolutional layer into a grid\n",
    "grid = convert_to_grid(w[0])\n",
    "\n",
    "\n",
    "# Plotting the grid\n",
    "plt.imshow(grid.astype('uint8'))\n",
    "\n",
    "\n",
    "# Switching off axes\n",
    "# Setting size of the plot (width, height) in inches\n",
    "plt.axis('off')\n",
    "plt.gcf().set_size_inches(10, 10)\n",
    "\n",
    "\n",
    "# Showing the plot\n",
    "plt.show()\n"
   ]
  },
  {
   "cell_type": "markdown",
   "metadata": {},
   "source": [
    "### Traffic Signs dataset, 2nd model\n",
    "\n",
    "## Step 4: Converting intermediate weights into images"
   ]
  },
  {
   "cell_type": "code",
   "execution_count": null,
   "metadata": {
    "scrolled": true
   },
   "outputs": [],
   "source": [
    "# Iterating all saved intermediate weights\n",
    "for i in range(400):\n",
    "    # Opening saved binary file with intermediate weights\n",
    "    # (!) On Windows, it might need to change\n",
    "    # this: + '/' +\n",
    "    # to this: + '\\' +\n",
    "    # or to this: + '\\\\' +\n",
    "    with h5py.File('ts/intermediate/' + '{0:04d}'.format(i) + \\\n",
    "                   '_w_2_ts_rgb_255_mean_std.h5', 'r') as f:\n",
    "        # Extracting saved array with intermediate weights by appropriate key\n",
    "        # Saving them into new variable\n",
    "        weights = f['weights_layer_0']  # HDF5 dataset\n",
    "\n",
    "        # Converting them into Numpy array\n",
    "        weights = np.array(weights)  # Numpy arrays\n",
    "\n",
    "    \n",
    "    # Moving last dimension to the first position\n",
    "    # Reshaping Numpy array from\n",
    "    # (height, width, channels, number) to\n",
    "    # (number, height, width, channels)\n",
    "    weights = weights.transpose(3, 0, 1, 2)\n",
    "    \n",
    "    \n",
    "    # Converting weights of convolutional layer into a grid\n",
    "    grid = convert_to_grid(weights)\n",
    "    \n",
    "    \n",
    "    # Plotting the grid\n",
    "    plt.imshow(grid.astype('uint8'))\n",
    "    \n",
    "    \n",
    "    # Switching off axes\n",
    "    # Setting size of the plot (width, height) in inches\n",
    "    plt.axis('off')\n",
    "    plt.gcf().set_size_inches(10, 10)\n",
    "    \n",
    "    \n",
    "    # Saving the plot into image file\n",
    "    # (!) On Windows, it might need to change\n",
    "    # this: + '/' +\n",
    "    # to this: + '\\' +\n",
    "    # or to this: + '\\\\' +\n",
    "    plt.savefig('ts/intermediate/images/' + '{0:04d}'.format(i) + '.png', dpi=300)\n",
    "    \n",
    "    \n",
    "    # Closing the plot\n",
    "    plt.close()\n",
    "    \n",
    "    \n",
    "    # Check point\n",
    "    print('{0:04d}.png is created'.format(i))\n"
   ]
  },
  {
   "cell_type": "markdown",
   "metadata": {},
   "source": [
    "### Some comments\n",
    "\n",
    "To get more details for usage of 'np.sqrt':  \n",
    "**print(help(np.sqrt))**\n",
    "  \n",
    "More details and examples are here:  \n",
    " - https://numpy.org/doc/stable/reference/generated/numpy.sqrt.html  \n",
    "  \n",
    "  \n",
    "To get more details for usage of 'np.ceil':  \n",
    "**print(help(np.ceil))**\n",
    "  \n",
    "More details and examples are here:  \n",
    " - https://numpy.org/doc/stable/reference/generated/numpy.ceil.html  \n"
   ]
  },
  {
   "cell_type": "code",
   "execution_count": null,
   "metadata": {
    "scrolled": true
   },
   "outputs": [],
   "source": [
    "print(help(np.sqrt))"
   ]
  },
  {
   "cell_type": "code",
   "execution_count": null,
   "metadata": {},
   "outputs": [],
   "source": [
    "print(help(np.ceil))"
   ]
  }
 ],
 "metadata": {
  "kernelspec": {
   "display_name": "Python 3",
   "language": "python",
   "name": "python3"
  },
  "language_info": {
   "codemirror_mode": {
    "name": "ipython",
    "version": 3
   },
   "file_extension": ".py",
   "mimetype": "text/x-python",
   "name": "python",
   "nbconvert_exporter": "python",
   "pygments_lexer": "ipython3",
   "version": "3.7.7"
  }
 },
 "nbformat": 4,
 "nbformat_minor": 2
}
